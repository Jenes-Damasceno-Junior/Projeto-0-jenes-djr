{
 "cells": [
  {
   "cell_type": "markdown",
   "id": "a8087e88",
   "metadata": {},
   "source": [
    "Desafio:\n",
    "Faça um programa que leia nome e média de um aluno, guardando também a situação \n",
    "em um dicionário. No final, moestre o conteúdo da estrutura na tela."
   ]
  },
  {
   "cell_type": "code",
   "execution_count": 129,
   "id": "1dca5a8d",
   "metadata": {},
   "outputs": [
    {
     "name": "stdout",
     "output_type": "stream",
     "text": [
      "Nome do Aluno: Jenes\n",
      "Nota do Aluno: 9.8\n",
      "-=-=-=-=-=-=-=-=-=-=-=-=-=-=-=-=-=-=-=-=-=-=-=-=-=-=-=-=-=-=\n",
      "O Aluno Jenes está com status Aprovado. Sua nota foi 9.8\n",
      "-=-=-=-=-=-=-=-=-=-=-=-=-=-=-=-=-=-=-=-=-=-=-=-=-=-=-=-=-=-=\n",
      "  - Nome é igual a Jenes\n",
      "  - Nota é igual a 9.8\n",
      "  - Situação é igual a Aprovado\n"
     ]
    }
   ],
   "source": [
    "#Criando um dicionário por inputs\n",
    "\n",
    "link = r'https://www.youtube.com/watch?v=HipQYUk4koA&list=PLHz_AreHm4dm6wYOIW20Nyg12TAjmMGT-&index=91'\n",
    "\n",
    "aluno = dict()\n",
    "\n",
    "aluno['Nome'] = str(input('Nome do Aluno: '))\n",
    "aluno['Nota'] = float(input('Nota do Aluno: '))\n",
    "\n",
    "if aluno['Nota'] >= 7:\n",
    "    aluno['Situação'] = 'Aprovado'\n",
    "elif 5 <= aluno['Nota'] < 7:\n",
    "    aluno['Situação'] = 'Recuperação'\n",
    "else:\n",
    "    aluno['Situação'] = 'Reprovado'\n",
    "\n",
    "print('-=' *30)\n",
    "\n",
    "print('O Aluno {} está com status {}. Sua nota foi {}'.format(aluno['Nome'], aluno['Situação'], aluno['Nota']))\n",
    "\n",
    "print('-=' *30)\n",
    "\n",
    "for k, v in aluno.items():\n",
    "    print(f'  - {k} é igual a {v}')"
   ]
  },
  {
   "cell_type": "markdown",
   "id": "f4ea4b28",
   "metadata": {},
   "source": [
    "Desafio:\n",
    "Crie um programa onde 4 jogadores joguem um dado e tenham resultados aleatórios.\n",
    "Guarde esses resultados em um dicionário. No final, coloque esse dicionário em \n",
    "ordem, sabendo que o vencedor tirou o maior número no dado."
   ]
  },
  {
   "cell_type": "code",
   "execution_count": 136,
   "id": "8ae72fce",
   "metadata": {},
   "outputs": [
    {
     "name": "stdout",
     "output_type": "stream",
     "text": [
      "    VALORES SORTEADOS\n",
      "Jogador1 tirou 3 no dado.\n",
      "Jogador2 tirou 6 no dado.\n",
      "Jogador3 tirou 5 no dado.\n",
      "Jogador4 tirou 2 no dado.\n",
      "-=-=-=-=-=-=-=-=-=-=-=-=-=-=-=-=-=-=-=-=-=-=-=-=-=-=-=-=-=-=\n",
      "  == RANKING DOS JOGADORES ==\n",
      "   1º lugar: Jogador2 com 6.\n",
      "   2º lugar: Jogador3 com 5.\n",
      "   3º lugar: Jogador1 com 3.\n",
      "   4º lugar: Jogador4 com 2.\n"
     ]
    }
   ],
   "source": [
    "link = r'https://www.youtube.com/watch?v=cwrqIztaAwk&list=PLHz_AreHm4dm6wYOIW20Nyg12TAjmMGT-&index=92'\n",
    "\n",
    "\n",
    "\n",
    "from random import randint\n",
    "from time import sleep\n",
    "from operator import itemgetter\n",
    "\n",
    "jogo = {'Jogador1': randint(1, 6),\n",
    "        'Jogador2': randint(1, 6),\n",
    "        'Jogador3': randint(1, 6),\n",
    "        'Jogador4': randint(1, 6)}\n",
    "ranking = list()\n",
    "\n",
    "print('    VALORES SORTEADOS')\n",
    "\n",
    "for k, v in jogo.items():\n",
    "    print(f'{k} tirou {v} no dado.')\n",
    "    sleep(1)\n",
    "\n",
    "ranking = sorted(jogo.items(), key=itemgetter(1), reverse=True)\n",
    "\n",
    "print('-=' * 30)\n",
    "print('  == RANKING DOS JOGADORES ==')\n",
    "for i, v in enumerate(ranking):\n",
    "    print(f'   {i+1}º lugar: {v[0]} com {v[1]}.')\n",
    "    sleep(1)\n",
    "    "
   ]
  },
  {
   "cell_type": "markdown",
   "id": "c8d2e960",
   "metadata": {},
   "source": [
    "Dasafio:\n",
    "Crie um programa que leia nome, ano de nascimento, e carteira de trabalho e cadastre-os (com idade) em um dicionário se\n",
    "por acaso o CTPS for diferente de zero, o dicionario receberá também o ano de contratação e o salário. Calcule e acrescente,\n",
    "além da idade, com quantos anos a pessoa vai se aposentar."
   ]
  },
  {
   "cell_type": "code",
   "execution_count": 138,
   "id": "9c50ce42",
   "metadata": {},
   "outputs": [
    {
     "name": "stdout",
     "output_type": "stream",
     "text": [
      "Nome: Jenes\n",
      "Ano de Nascimento: 1982\n",
      "CTPS Nº: 12345\n",
      "Ano de Contratação: 2012\n",
      "Salário R$: 1000\n",
      "{'Nome': 'Jenes', 'Ano de Nascimento': 1982, 'Idade': 40, 'CTPS': 12345, 'Ano de Contratação': 2012, 'Salário': 1000.0, 'Idade de Aposentadoria': 65}\n"
     ]
    }
   ],
   "source": [
    "from datetime import datetime\n",
    "dados = {}\n",
    "dados['Nome'] = str(input('Nome: '))\n",
    "dados['Ano de Nascimento'] = int(input('Ano de Nascimento: '))\n",
    "dados['Idade'] = datetime.now().year - dados['Ano de Nascimento']\n",
    "dados['CTPS'] = int(input('CTPS Nº: '))\n",
    "\n",
    "if dados['CTPS'] != 0:\n",
    "    dados['Ano de Contratação'] = int(input('Ano de Contratação: '))\n",
    "    dados['Salário'] = float(input('Salário R$: '))\n",
    "    dados['Idade de Aposentadoria'] = (35 - (datetime.now().year - dados['Ano de Contratação'])) + dados['Idade']\n",
    "    \n",
    "print(dados)\n"
   ]
  },
  {
   "cell_type": "code",
   "execution_count": null,
   "id": "03033e6c",
   "metadata": {},
   "outputs": [],
   "source": []
  }
 ],
 "metadata": {
  "kernelspec": {
   "display_name": "Python 3 (ipykernel)",
   "language": "python",
   "name": "python3"
  },
  "language_info": {
   "codemirror_mode": {
    "name": "ipython",
    "version": 3
   },
   "file_extension": ".py",
   "mimetype": "text/x-python",
   "name": "python",
   "nbconvert_exporter": "python",
   "pygments_lexer": "ipython3",
   "version": "3.9.12"
  }
 },
 "nbformat": 4,
 "nbformat_minor": 5
}
