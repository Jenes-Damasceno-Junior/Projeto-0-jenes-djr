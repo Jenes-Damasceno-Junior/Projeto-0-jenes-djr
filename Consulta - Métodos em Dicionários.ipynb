{
 "cells": [
  {
   "cell_type": "code",
   "execution_count": 146,
   "id": "9e1b67ad",
   "metadata": {},
   "outputs": [
    {
     "name": "stdout",
     "output_type": "stream",
     "text": [
      "Grêmio\n",
      "Inter\n",
      "Chapecoense\n",
      "dict_keys(['Grêmio', 'Inter', 'Chapecoense', 'Palmeiras', 'Goias', 'Fortaleza'])\n"
     ]
    }
   ],
   "source": [
    "times = {'Grêmio': (6000000, 'Região Sul', 'Tricolor'),\n",
    "         'Inter': (4000000, 'Região Sul', 'Alvi-Rubro'),\n",
    "         'Chapecoense': (500000, 'Região Sul', 'Alvi-Verde'),\n",
    "         'Palmeiras': (10000000, 'Região Sudeste', 'Alvi-Verde'),\n",
    "         'Goias': (1000000, 'Região Centro-Oeste', 'Alviverde'),\n",
    "         'Fortaleza': (2000000, 'Região Nordeste', 'Tricolor')}\n",
    "\n",
    "for itens in times:\n",
    "    torcida, regiao, camisa = times[itens]\n",
    "    if regiao == 'Região Sul':\n",
    "        \n",
    "#Retorna a lista de chaves contidas em um dicionário.\n",
    "print(times.keys())"
   ]
  },
  {
   "cell_type": "code",
   "execution_count": 82,
   "id": "d8a8c748",
   "metadata": {},
   "outputs": [
    {
     "name": "stdout",
     "output_type": "stream",
     "text": [
      "dict_values([(6000000, 'Região Sul', 'Tricolor'), (4000000, 'Região Sul', 'Alvi-Rubro'), (500000, 'Região Sul', 'Alvi-Verde'), (10000000, 'Região Sudeste', 'Alvi-Verde'), (1000000, 'Região Centro-Oeste', 'Alviverde'), (2000000, 'Região Nordeste', 'Tricolor')])\n"
     ]
    }
   ],
   "source": [
    "#Retorna a lista de valores contidos em um dicionário.\n",
    "print(times.values())"
   ]
  },
  {
   "cell_type": "code",
   "execution_count": 83,
   "id": "4e5f7b7a",
   "metadata": {},
   "outputs": [
    {
     "name": "stdout",
     "output_type": "stream",
     "text": [
      "dict_items([('Grêmio', (6000000, 'Região Sul', 'Tricolor')), ('Inter', (4000000, 'Região Sul', 'Alvi-Rubro')), ('Chapecoense', (500000, 'Região Sul', 'Alvi-Verde')), ('Palmeiras', (10000000, 'Região Sudeste', 'Alvi-Verde')), ('Goias', (1000000, 'Região Centro-Oeste', 'Alviverde')), ('Fortaleza', (2000000, 'Região Nordeste', 'Tricolor'))])\n"
     ]
    }
   ],
   "source": [
    "#Retorna uma lista de tuplas, onde cada tupla é composta por dois valores: a chave e o valor mapeado respectivamente.\n",
    "print(times.items())"
   ]
  },
  {
   "cell_type": "code",
   "execution_count": 88,
   "id": "fc3d3208",
   "metadata": {},
   "outputs": [
    {
     "name": "stdout",
     "output_type": "stream",
     "text": [
      "(1000000, 'Região Centro-Oeste', 'Alviverde')\n"
     ]
    }
   ],
   "source": [
    "#O get()método retorna o valor do item com a chave especificada.\n",
    "print(times.get('Goias'))"
   ]
  },
  {
   "cell_type": "code",
   "execution_count": 111,
   "id": "f4a88f2f",
   "metadata": {},
   "outputs": [
    {
     "name": "stdout",
     "output_type": "stream",
     "text": [
      "['Grêmio', 'Inter', 'Chapecoense', 'Palmeiras', 'Goias', 'Fortaleza']\n"
     ]
    }
   ],
   "source": [
    "# Lista de Chaves\n",
    "a = list(times.keys())\n",
    "print(a)"
   ]
  },
  {
   "cell_type": "code",
   "execution_count": 110,
   "id": "da82b5fb",
   "metadata": {},
   "outputs": [
    {
     "name": "stdout",
     "output_type": "stream",
     "text": [
      "[(6000000, 'Região Sul', 'Tricolor'), (4000000, 'Região Sul', 'Alvi-Rubro'), (500000, 'Região Sul', 'Alvi-Verde'), (10000000, 'Região Sudeste', 'Alvi-Verde'), (1000000, 'Região Centro-Oeste', 'Alviverde'), (2000000, 'Região Nordeste', 'Tricolor')]\n"
     ]
    }
   ],
   "source": [
    "#Lista de Valores\n",
    "b = list(times.values())\n",
    "print(b)"
   ]
  },
  {
   "cell_type": "code",
   "execution_count": null,
   "id": "50d29037",
   "metadata": {},
   "outputs": [],
   "source": []
  },
  {
   "cell_type": "code",
   "execution_count": null,
   "id": "c984f082",
   "metadata": {},
   "outputs": [],
   "source": []
  }
 ],
 "metadata": {
  "kernelspec": {
   "display_name": "Python 3 (ipykernel)",
   "language": "python",
   "name": "python3"
  },
  "language_info": {
   "codemirror_mode": {
    "name": "ipython",
    "version": 3
   },
   "file_extension": ".py",
   "mimetype": "text/x-python",
   "name": "python",
   "nbconvert_exporter": "python",
   "pygments_lexer": "ipython3",
   "version": "3.9.12"
  }
 },
 "nbformat": 4,
 "nbformat_minor": 5
}
