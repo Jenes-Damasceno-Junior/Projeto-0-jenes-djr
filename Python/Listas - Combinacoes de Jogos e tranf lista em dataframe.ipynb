{
 "cells": [
  {
   "cell_type": "code",
   "execution_count": 6,
   "id": "eecf6482",
   "metadata": {},
   "outputs": [
    {
     "data": {
      "text/html": [
       "<div>\n",
       "<style scoped>\n",
       "    .dataframe tbody tr th:only-of-type {\n",
       "        vertical-align: middle;\n",
       "    }\n",
       "\n",
       "    .dataframe tbody tr th {\n",
       "        vertical-align: top;\n",
       "    }\n",
       "\n",
       "    .dataframe thead th {\n",
       "        text-align: right;\n",
       "    }\n",
       "</style>\n",
       "<table border=\"1\" class=\"dataframe\">\n",
       "  <thead>\n",
       "    <tr style=\"text-align: right;\">\n",
       "      <th></th>\n",
       "      <th>Resultados</th>\n",
       "    </tr>\n",
       "  </thead>\n",
       "  <tbody>\n",
       "    <tr>\n",
       "      <th>0</th>\n",
       "      <td>Sport 0 x 0 LondrinaCriciuma 0 x 0 Vasco</td>\n",
       "    </tr>\n",
       "    <tr>\n",
       "      <th>1</th>\n",
       "      <td>Sport 0 x 0 LondrinaCriciuma 1 x 0 Vasco</td>\n",
       "    </tr>\n",
       "    <tr>\n",
       "      <th>2</th>\n",
       "      <td>Sport 0 x 0 LondrinaCriciuma 0 x 1 Vasco</td>\n",
       "    </tr>\n",
       "    <tr>\n",
       "      <th>3</th>\n",
       "      <td>Sport 1 x 0 LondrinaCriciuma 0 x 0 Vasco</td>\n",
       "    </tr>\n",
       "    <tr>\n",
       "      <th>4</th>\n",
       "      <td>Sport 1 x 0 LondrinaCriciuma 1 x 0 Vasco</td>\n",
       "    </tr>\n",
       "    <tr>\n",
       "      <th>5</th>\n",
       "      <td>Sport 1 x 0 LondrinaCriciuma 0 x 1 Vasco</td>\n",
       "    </tr>\n",
       "    <tr>\n",
       "      <th>6</th>\n",
       "      <td>Sport 0 x 1 LondrinaCriciuma 0 x 0 Vasco</td>\n",
       "    </tr>\n",
       "    <tr>\n",
       "      <th>7</th>\n",
       "      <td>Sport 0 x 1 LondrinaCriciuma 1 x 0 Vasco</td>\n",
       "    </tr>\n",
       "    <tr>\n",
       "      <th>8</th>\n",
       "      <td>Sport 0 x 1 LondrinaCriciuma 0 x 1 Vasco</td>\n",
       "    </tr>\n",
       "  </tbody>\n",
       "</table>\n",
       "</div>"
      ],
      "text/plain": [
       "                                 Resultados\n",
       "0  Sport 0 x 0 LondrinaCriciuma 0 x 0 Vasco\n",
       "1  Sport 0 x 0 LondrinaCriciuma 1 x 0 Vasco\n",
       "2  Sport 0 x 0 LondrinaCriciuma 0 x 1 Vasco\n",
       "3  Sport 1 x 0 LondrinaCriciuma 0 x 0 Vasco\n",
       "4  Sport 1 x 0 LondrinaCriciuma 1 x 0 Vasco\n",
       "5  Sport 1 x 0 LondrinaCriciuma 0 x 1 Vasco\n",
       "6  Sport 0 x 1 LondrinaCriciuma 0 x 0 Vasco\n",
       "7  Sport 0 x 1 LondrinaCriciuma 1 x 0 Vasco\n",
       "8  Sport 0 x 1 LondrinaCriciuma 0 x 1 Vasco"
      ]
     },
     "metadata": {},
     "output_type": "display_data"
    }
   ],
   "source": [
    "from itertools import product\n",
    "import pandas as pd\n",
    "\n",
    "def combinacoes(jogo_a, jogo_b):\n",
    "    return [ f'{s}{num}' for s, num in product(jogo_a, jogo_b) ]\n",
    "\n",
    "jogo_a = ['Sport 0 x 0 Londrina', 'Sport 1 x 0 Londrina', 'Sport 0 x 1 Londrina']\n",
    "jogo_b = ['Criciuma 0 x 0 Vasco', 'Criciuma 1 x 0 Vasco', 'Criciuma 0 x 1 Vasco']\n",
    "resultados = combinacoes(jogo_a, jogo_b)\n",
    "resultados_df = pd.DataFrame(resultados, columns=[\"Resultados\"])\n",
    "display(resultados_df)"
   ]
  },
  {
   "cell_type": "code",
   "execution_count": null,
   "id": "d4f8d8e2",
   "metadata": {},
   "outputs": [],
   "source": []
  }
 ],
 "metadata": {
  "kernelspec": {
   "display_name": "Python 3 (ipykernel)",
   "language": "python",
   "name": "python3"
  },
  "language_info": {
   "codemirror_mode": {
    "name": "ipython",
    "version": 3
   },
   "file_extension": ".py",
   "mimetype": "text/x-python",
   "name": "python",
   "nbconvert_exporter": "python",
   "pygments_lexer": "ipython3",
   "version": "3.9.12"
  }
 },
 "nbformat": 4,
 "nbformat_minor": 5
}
